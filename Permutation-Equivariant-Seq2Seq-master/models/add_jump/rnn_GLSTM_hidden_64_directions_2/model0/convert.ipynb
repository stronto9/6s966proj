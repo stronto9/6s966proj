{
 "cells": [
  {
   "cell_type": "code",
   "execution_count": 1,
   "id": "6a1a23ba-81f9-455f-b685-1a0c56a260fb",
   "metadata": {
    "tags": []
   },
   "outputs": [],
   "source": [
    "import base64\n",
    "from io import BytesIO"
   ]
  },
  {
   "cell_type": "code",
   "execution_count": 3,
   "id": "3f166921-efc9-479d-8efa-b5913b85cd33",
   "metadata": {
    "tags": []
   },
   "outputs": [],
   "source": [
    "with open(\"model_fully_trained.pt\", \"rb\") as f:\n",
    "    byte = f.read()\n",
    "\n",
    "# Base64 Encode the bytes\n",
    "data_e = base64.b64encode(byte)\n",
    "\n",
    "filename ='base64_model_fully_trained.pt'\n",
    "\n",
    "with open(filename, \"wb\") as output:\n",
    "    output.write(data_e)"
   ]
  }
 ],
 "metadata": {
  "kernelspec": {
   "display_name": "Cortex-Python3.9",
   "language": "python",
   "name": "cortex-python3.9"
  },
  "language_info": {
   "codemirror_mode": {
    "name": "ipython",
    "version": 3
   },
   "file_extension": ".py",
   "mimetype": "text/x-python",
   "name": "python",
   "nbconvert_exporter": "python",
   "pygments_lexer": "ipython3",
   "version": "3.9.16"
  }
 },
 "nbformat": 4,
 "nbformat_minor": 5
}
